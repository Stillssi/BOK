{
 "cells": [
  {
   "cell_type": "markdown",
   "metadata": {},
   "source": [
    "2. 레이블링\n",
    "  - 얼마나 뒤의 금리변동을 예측할 것인지 t + 1 기준 선정\n",
    "  - (선택사항) 혹시라도 예측까지 파이프라인을 구축한다면, 다양한 기간으로 테스트 해봐도 좋습니다.\n",
    "3. 모델링\n",
    "  - Market Approach\n",
    "  - Lexical Approach"
   ]
  },
  {
   "cell_type": "markdown",
   "metadata": {},
   "source": [
    "# 1. 전처리"
   ]
  },
  {
   "cell_type": "code",
   "execution_count": 18,
   "metadata": {},
   "outputs": [],
   "source": [
    "# ngram 생성하기\n",
    "\n",
    "import os\n",
    "import re\n",
    "from ekonlpy.sentiment import MPCK\n",
    "import pandas as pd\n",
    "\n",
    "TXT_DIR = \"../../01_Crawling/financecrawler/TXT\"\n",
    "PDF_DIR = \"../../01_Crawling/financecrawler/PDF\"\n",
    "data = pd.read_csv('../../01_Crawling/financecrawler/new.csv')\n",
    "df = pd.DataFrame(columns=['date', 'content', 'scores', 'ngrams'])\n",
    "\n",
    "text_list = os.listdir(TXT_DIR)\n",
    "pdf_list = os.listdir(PDF_DIR)\n",
    "\n",
    "ngram_list = []\n",
    "scores = []\n",
    "content = []\n",
    "dates = []\n",
    "\n",
    "for i in range(len(text_list)):\n",
    "    # 텍스트 불러오기\n",
    "    text_file = open(TXT_DIR + f\"/{text_list[i]}\", 'r', encoding='utf-8-sig')\n",
    "    text = ''\n",
    "    for line in text_file:\n",
    "        new_line = line.strip()\n",
    "        if len(new_line) == 0:\n",
    "            continue\n",
    "        else:\n",
    "            text += new_line\n",
    "\n",
    "    re_text = re.sub('[^ ㄱ-ㅣ가-힣]+', '', text).lstrip().rstrip()\n",
    "    \n",
    "    content.append(re_text)\n",
    "    dates.append(data['date'].loc[i])\n",
    "\n",
    "    # MPCK 객체 생성\n",
    "    mpck = MPCK()\n",
    "\n",
    "    tokens = mpck.tokenize(re_text)\n",
    "    ngrams = mpck.ngramize(tokens)\n",
    "    score = mpck.classify(tokens+ngrams, intensity_cutoff=1.5)\n",
    "\n",
    "    scores.append(score)\n",
    "    ngram_list.append(ngrams)"
   ]
  },
  {
   "cell_type": "code",
   "execution_count": 5,
   "metadata": {},
   "outputs": [
    {
     "data": {
      "text/plain": [
       "['11.01.03', '11.01.03', '11.01.03', '11.01.04', '11.01.05']"
      ]
     },
     "execution_count": 5,
     "metadata": {},
     "output_type": "execute_result"
    }
   ],
   "source": [
    "dates"
   ]
  },
  {
   "cell_type": "code",
   "execution_count": 34,
   "metadata": {},
   "outputs": [],
   "source": [
    "df['date'] = dates\n",
    "df['date'] = pd.to_datetime(df['date'], yearfirst=True)\n",
    "df['content'] = content\n",
    "df['scores'] = scores\n",
    "df['ngrams'] = ngram_list"
   ]
  },
  {
   "cell_type": "code",
   "execution_count": 35,
   "metadata": {},
   "outputs": [],
   "source": [
    "df.to_csv('bondreport.csv', mode='w',encoding='utf-8-sig')"
   ]
  },
  {
   "cell_type": "markdown",
   "metadata": {},
   "source": [
    "# 2. 레이블링"
   ]
  },
  {
   "cell_type": "code",
   "execution_count": null,
   "metadata": {},
   "outputs": [],
   "source": []
  },
  {
   "cell_type": "code",
   "execution_count": null,
   "metadata": {},
   "outputs": [],
   "source": []
  },
  {
   "cell_type": "code",
   "execution_count": null,
   "metadata": {},
   "outputs": [],
   "source": []
  },
  {
   "cell_type": "code",
   "execution_count": null,
   "metadata": {},
   "outputs": [],
   "source": []
  },
  {
   "cell_type": "markdown",
   "metadata": {},
   "source": [
    "# 3. 모델링"
   ]
  }
 ],
 "metadata": {
  "kernelspec": {
   "display_name": "Python 3.8.0 ('mecab')",
   "language": "python",
   "name": "python3"
  },
  "language_info": {
   "codemirror_mode": {
    "name": "ipython",
    "version": 3
   },
   "file_extension": ".py",
   "mimetype": "text/x-python",
   "name": "python",
   "nbconvert_exporter": "python",
   "pygments_lexer": "ipython3",
   "version": "3.8.0"
  },
  "orig_nbformat": 4,
  "vscode": {
   "interpreter": {
    "hash": "cdd4f383935302dc9c91aaf6980ce91b6bd29664bb822922451efe16ca12f078"
   }
  }
 },
 "nbformat": 4,
 "nbformat_minor": 2
}
