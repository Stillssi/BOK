{
 "cells": [
  {
   "cell_type": "code",
   "execution_count": 1,
   "metadata": {},
   "outputs": [
    {
     "data": {
      "text/html": [
       "<div>\n",
       "<style scoped>\n",
       "    .dataframe tbody tr th:only-of-type {\n",
       "        vertical-align: middle;\n",
       "    }\n",
       "\n",
       "    .dataframe tbody tr th {\n",
       "        vertical-align: top;\n",
       "    }\n",
       "\n",
       "    .dataframe thead th {\n",
       "        text-align: right;\n",
       "    }\n",
       "</style>\n",
       "<table border=\"1\" class=\"dataframe\">\n",
       "  <thead>\n",
       "    <tr style=\"text-align: right;\">\n",
       "      <th></th>\n",
       "      <th>rate</th>\n",
       "    </tr>\n",
       "    <tr>\n",
       "      <th>date</th>\n",
       "      <th></th>\n",
       "    </tr>\n",
       "  </thead>\n",
       "  <tbody>\n",
       "    <tr>\n",
       "      <th>2011-01-01</th>\n",
       "      <td>2.50</td>\n",
       "    </tr>\n",
       "    <tr>\n",
       "      <th>2011-01-02</th>\n",
       "      <td>2.50</td>\n",
       "    </tr>\n",
       "    <tr>\n",
       "      <th>2011-01-03</th>\n",
       "      <td>2.50</td>\n",
       "    </tr>\n",
       "    <tr>\n",
       "      <th>2011-01-04</th>\n",
       "      <td>2.50</td>\n",
       "    </tr>\n",
       "    <tr>\n",
       "      <th>2011-01-05</th>\n",
       "      <td>2.50</td>\n",
       "    </tr>\n",
       "    <tr>\n",
       "      <th>...</th>\n",
       "      <td>...</td>\n",
       "    </tr>\n",
       "    <tr>\n",
       "      <th>2022-02-01</th>\n",
       "      <td>1.25</td>\n",
       "    </tr>\n",
       "    <tr>\n",
       "      <th>2022-02-02</th>\n",
       "      <td>1.25</td>\n",
       "    </tr>\n",
       "    <tr>\n",
       "      <th>2022-02-03</th>\n",
       "      <td>1.25</td>\n",
       "    </tr>\n",
       "    <tr>\n",
       "      <th>2022-02-04</th>\n",
       "      <td>1.25</td>\n",
       "    </tr>\n",
       "    <tr>\n",
       "      <th>2022-02-05</th>\n",
       "      <td>1.25</td>\n",
       "    </tr>\n",
       "  </tbody>\n",
       "</table>\n",
       "<p>4054 rows × 1 columns</p>\n",
       "</div>"
      ],
      "text/plain": [
       "            rate\n",
       "date            \n",
       "2011-01-01  2.50\n",
       "2011-01-02  2.50\n",
       "2011-01-03  2.50\n",
       "2011-01-04  2.50\n",
       "2011-01-05  2.50\n",
       "...          ...\n",
       "2022-02-01  1.25\n",
       "2022-02-02  1.25\n",
       "2022-02-03  1.25\n",
       "2022-02-04  1.25\n",
       "2022-02-05  1.25\n",
       "\n",
       "[4054 rows x 1 columns]"
      ]
     },
     "execution_count": 1,
     "metadata": {},
     "output_type": "execute_result"
    }
   ],
   "source": [
    "import pandas as pd\n",
    "import datetime\n",
    "from datetime import timedelta\n",
    "def present_rate():\n",
    "    b = []\n",
    "    dataframe_list = []\n",
    "    base_rate = pd.read_csv('/Users/stillssi/Desktop/BOK_TEAM_4/01_Crawling/base_rate/base_rate.csv')\n",
    "    base_rate['date'] = pd.to_datetime(base_rate['date'])\n",
    "    base_rate = base_rate.sort_values(by='date',ascending=True)\n",
    "    base_rate.set_index('date', inplace=True)\n",
    "    for i in range(len(base_rate.index)):\n",
    "        start_date = pd.to_datetime(base_rate.index[i]) ## 시작 날짜\n",
    "        try:\n",
    "            tmp = {}\n",
    "            end_date = pd.to_datetime(base_rate.index[i+1]) ## 마지막 날짜\\\n",
    "            bet = pd.date_range(start_date,end_date+ timedelta(days = -1),freq='D').values\n",
    "            \n",
    "            tmp = {'date': bet, 'rate': [base_rate.loc[start_date].rate]*len(bet)} \n",
    "            b = pd.DataFrame(tmp)\n",
    "            b.set_index('date', inplace=True)\n",
    "            dataframe_list.append(b)\n",
    "        except:\n",
    "            break\n",
    "        \n",
    "    merge_dataframe = pd.concat(dataframe_list)\n",
    "    merge_dataframe = merge_dataframe.iloc[46:4100]\n",
    "    merge_dataframe.to_csv('./base_rate.csv')\n",
    "    return merge_dataframe\n",
    "\n",
    "present_rate()"
   ]
  },
  {
   "cell_type": "code",
   "execution_count": 2,
   "metadata": {},
   "outputs": [],
   "source": [
    "import numpy as np\n",
    "from datetime import datetime\n",
    "from datetime import timedelta\n",
    "\n",
    "def future_rate(fra):\n",
    "    da_list, ra_list = [],[]\n",
    "    base_r = fra\n",
    "    for i in range(len(base_r.index)):\n",
    "        if base_r.index[i] == datetime.strptime('2022-01-01', '%Y-%m-%d'):\n",
    "            break\n",
    "        da_list.append(base_r.index[i])\n",
    "        ra_list.append(base_r.loc[base_r.index[i] + timedelta(days = 28)].rate)\n",
    "        \n",
    "    label_ = {'date': da_list, 'rate': ra_list}\n",
    "    label_df = pd.DataFrame(label_)\n",
    "    label_df.set_index('date', inplace=True)\n",
    "    return label_df\n",
    "\n",
    "pre_rate = present_rate()\n",
    "fu_rate = future_rate(pre_rate)"
   ]
  },
  {
   "cell_type": "code",
   "execution_count": 3,
   "metadata": {},
   "outputs": [],
   "source": [
    "def please2(x):\n",
    "    return 1 if x > 0.03 else -1 if x < -0.03 else 0\n",
    "new_df = (pre_rate - fu_rate)\n",
    "new_df['label'] = new_df['rate'].apply(lambda x : please2(x))"
   ]
  },
  {
   "cell_type": "code",
   "execution_count": 4,
   "metadata": {},
   "outputs": [],
   "source": [
    "new_df.to_csv('base_rate_label.csv')\n"
   ]
  },
  {
   "cell_type": "code",
   "execution_count": null,
   "metadata": {},
   "outputs": [],
   "source": []
  }
 ],
 "metadata": {
  "kernelspec": {
   "display_name": "Python 3.10.8 ('project1')",
   "language": "python",
   "name": "python3"
  },
  "language_info": {
   "codemirror_mode": {
    "name": "ipython",
    "version": 3
   },
   "file_extension": ".py",
   "mimetype": "text/x-python",
   "name": "python",
   "nbconvert_exporter": "python",
   "pygments_lexer": "ipython3",
   "version": "3.10.8"
  },
  "orig_nbformat": 4,
  "vscode": {
   "interpreter": {
    "hash": "101b816fe1d0b90b733dc5a58a81038627d273f97be30c1d87794f54cdbf127f"
   }
  }
 },
 "nbformat": 4,
 "nbformat_minor": 2
}
