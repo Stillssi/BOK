{
 "cells": [
  {
   "cell_type": "code",
   "execution_count": 1,
   "metadata": {},
   "outputs": [
    {
     "data": {
      "text/plain": [
       "[('금통위', 'NNG'),\n",
       " ('는', 'JX'),\n",
       " ('따라서', 'MAJ'),\n",
       " ('물가', 'NNG'),\n",
       " ('안정', 'NNG'),\n",
       " ('과', 'JC'),\n",
       " ('병행', 'NNG'),\n",
       " (',', 'SC'),\n",
       " ('경기', 'NNG'),\n",
       " ('상황', 'NNG'),\n",
       " ('에', 'JKB'),\n",
       " ('유의', 'NNG'),\n",
       " ('하', 'XSV'),\n",
       " ('는', 'ETM'),\n",
       " ('금리', 'NNG'),\n",
       " ('정책', 'NNG'),\n",
       " ('을', 'JKO'),\n",
       " ('펼쳐', 'VV'),\n",
       " ('나가', 'VX'),\n",
       " ('기', 'ETN'),\n",
       " ('로', 'JKB'),\n",
       " ('했', 'VV'),\n",
       " ('다고', 'EC'),\n",
       " ('밝혔', 'VV'),\n",
       " ('다', 'EF'),\n",
       " ('.', 'SF')]"
      ]
     },
     "execution_count": 1,
     "metadata": {},
     "output_type": "execute_result"
    }
   ],
   "source": [
    "from ekonlpy.tag import Mecab\n",
    "\n",
    "mecab = Mecab()\n",
    "mecab.pos('금통위는 따라서 물가안정과 병행, 경기상황에 유의하는 금리정책을 펼쳐나가기로 했다고 밝혔다.')"
   ]
  },
  {
   "cell_type": "code",
   "execution_count": 2,
   "metadata": {},
   "outputs": [],
   "source": [
    "from ekonlpy.tag import Mecab\n",
    "mecab = Mecab()\n",
    "mecab.add_dictionary('금통위', 'NNG')"
   ]
  },
  {
   "cell_type": "code",
   "execution_count": 3,
   "metadata": {},
   "outputs": [],
   "source": [
    "text='금통위는 따라서 물가안정과 병행, 경기상황에 유의하는 금리정책을 펼쳐나가기로 했다고 밝혔다.'"
   ]
  },
  {
   "cell_type": "code",
   "execution_count": 4,
   "metadata": {},
   "outputs": [],
   "source": [
    "from ekonlpy.sentiment import MPKO # \n",
    "mpko = MPKO(kind=1)\n",
    "tokens = mpko.tokenize(text)\n",
    "score = mpko.get_score(tokens)"
   ]
  },
  {
   "cell_type": "code",
   "execution_count": 5,
   "metadata": {},
   "outputs": [],
   "source": [
    "from ekonlpy.sentiment import MPCK # \n",
    "mpck = MPCK()\n",
    "tokens = mpck.tokenize(text)\n",
    "ngrams = mpck.ngramize(tokens)\n",
    "score = mpck.classify(tokens + ngrams, intensity_cutoff=1.5)"
   ]
  },
  {
   "cell_type": "code",
   "execution_count": 6,
   "metadata": {},
   "outputs": [],
   "source": [
    "from ekonlpy.sentiment import KSA\n",
    "ksa = KSA()\n",
    "tokens = ksa.tokenize(text)\n",
    "score = ksa.get_score(tokens)"
   ]
  },
  {
   "cell_type": "code",
   "execution_count": 7,
   "metadata": {},
   "outputs": [
    {
     "ename": "TypeError",
     "evalue": "HIV4.init_dict() takes from 1 to 2 positional arguments but 3 were given",
     "output_type": "error",
     "traceback": [
      "\u001b[0;31m---------------------------------------------------------------------------\u001b[0m",
      "\u001b[0;31mTypeError\u001b[0m                                 Traceback (most recent call last)",
      "Cell \u001b[0;32mIn [7], line 2\u001b[0m\n\u001b[1;32m      1\u001b[0m \u001b[39mfrom\u001b[39;00m \u001b[39mekonlpy\u001b[39;00m\u001b[39m.\u001b[39;00m\u001b[39msentiment\u001b[39;00m \u001b[39mimport\u001b[39;00m HIV4\n\u001b[0;32m----> 2\u001b[0m hiv \u001b[39m=\u001b[39m HIV4()\n\u001b[1;32m      3\u001b[0m tokens \u001b[39m=\u001b[39m hiv\u001b[39m.\u001b[39mtokenize(text)\n\u001b[1;32m      4\u001b[0m score \u001b[39m=\u001b[39m hiv\u001b[39m.\u001b[39mget_score(tokens)\n",
      "File \u001b[0;32m~/opt/anaconda3/envs/project1/lib/python3.10/site-packages/ekonlpy/sentiment/base.py:62\u001b[0m, in \u001b[0;36mBaseDict.__init__\u001b[0;34m(self, tokenizer, kind, intensity_cutoff)\u001b[0m\n\u001b[1;32m     60\u001b[0m \u001b[39mself\u001b[39m\u001b[39m.\u001b[39m_poldict \u001b[39m=\u001b[39m {}\n\u001b[1;32m     61\u001b[0m \u001b[39mself\u001b[39m\u001b[39m.\u001b[39m_intensity_cutoff \u001b[39m=\u001b[39m intensity_cutoff\n\u001b[0;32m---> 62\u001b[0m \u001b[39mself\u001b[39;49m\u001b[39m.\u001b[39;49minit_dict(kind, intensity_cutoff)\n\u001b[1;32m     63\u001b[0m \u001b[39mif\u001b[39;00m tokenizer \u001b[39mis\u001b[39;00m \u001b[39mNone\u001b[39;00m:\n\u001b[1;32m     64\u001b[0m     \u001b[39mself\u001b[39m\u001b[39m.\u001b[39minit_tokenizer(kind)\n",
      "\u001b[0;31mTypeError\u001b[0m: HIV4.init_dict() takes from 1 to 2 positional arguments but 3 were given"
     ]
    }
   ],
   "source": [
    "from ekonlpy.sentiment import HIV4\n",
    "hiv = HIV4()\n",
    "tokens = hiv.tokenize(text)\n",
    "score = hiv.get_score(tokens)"
   ]
  },
  {
   "cell_type": "code",
   "execution_count": 8,
   "metadata": {},
   "outputs": [
    {
     "ename": "TypeError",
     "evalue": "LM.init_dict() takes from 1 to 2 positional arguments but 3 were given",
     "output_type": "error",
     "traceback": [
      "\u001b[0;31m---------------------------------------------------------------------------\u001b[0m",
      "\u001b[0;31mTypeError\u001b[0m                                 Traceback (most recent call last)",
      "Cell \u001b[0;32mIn [8], line 2\u001b[0m\n\u001b[1;32m      1\u001b[0m \u001b[39mfrom\u001b[39;00m \u001b[39mekonlpy\u001b[39;00m\u001b[39m.\u001b[39;00m\u001b[39msentiment\u001b[39;00m \u001b[39mimport\u001b[39;00m LM\n\u001b[0;32m----> 2\u001b[0m lm \u001b[39m=\u001b[39m LM()\n\u001b[1;32m      3\u001b[0m tokens \u001b[39m=\u001b[39m lm\u001b[39m.\u001b[39mtokenize(text)\n\u001b[1;32m      4\u001b[0m score \u001b[39m=\u001b[39m lm\u001b[39m.\u001b[39mget_score(tokens)\n",
      "File \u001b[0;32m~/opt/anaconda3/envs/project1/lib/python3.10/site-packages/ekonlpy/sentiment/base.py:62\u001b[0m, in \u001b[0;36mBaseDict.__init__\u001b[0;34m(self, tokenizer, kind, intensity_cutoff)\u001b[0m\n\u001b[1;32m     60\u001b[0m \u001b[39mself\u001b[39m\u001b[39m.\u001b[39m_poldict \u001b[39m=\u001b[39m {}\n\u001b[1;32m     61\u001b[0m \u001b[39mself\u001b[39m\u001b[39m.\u001b[39m_intensity_cutoff \u001b[39m=\u001b[39m intensity_cutoff\n\u001b[0;32m---> 62\u001b[0m \u001b[39mself\u001b[39;49m\u001b[39m.\u001b[39;49minit_dict(kind, intensity_cutoff)\n\u001b[1;32m     63\u001b[0m \u001b[39mif\u001b[39;00m tokenizer \u001b[39mis\u001b[39;00m \u001b[39mNone\u001b[39;00m:\n\u001b[1;32m     64\u001b[0m     \u001b[39mself\u001b[39m\u001b[39m.\u001b[39minit_tokenizer(kind)\n",
      "\u001b[0;31mTypeError\u001b[0m: LM.init_dict() takes from 1 to 2 positional arguments but 3 were given"
     ]
    }
   ],
   "source": [
    "from ekonlpy.sentiment import LM\n",
    "lm = LM()\n",
    "tokens = lm.tokenize(text)\n",
    "score = lm.get_score(tokens)"
   ]
  },
  {
   "cell_type": "code",
   "execution_count": 9,
   "metadata": {},
   "outputs": [],
   "source": [
    "from ekonlpy.sentiment import EUKO\n",
    "euko = EUKO(kind=1)\n",
    "tokens = euko.tokenize(text)\n",
    "score = euko.get_score(tokens)"
   ]
  },
  {
   "cell_type": "code",
   "execution_count": 10,
   "metadata": {},
   "outputs": [],
   "source": [
    "from ekonlpy.topic import MPTK\n",
    "mptk = MPTK()\n",
    "tokens = mptk.nouns(text)\n",
    "bow = mptk.doc2bow(tokens)\n",
    "dtm = mptk.get_document_topic(bow)"
   ]
  },
  {
   "cell_type": "code",
   "execution_count": null,
   "metadata": {},
   "outputs": [],
   "source": [
    "import pandas as pd\n",
    "\n",
    "read_csv()"
   ]
  }
 ],
 "metadata": {
  "kernelspec": {
   "display_name": "Python 3.10.8 ('project1')",
   "language": "python",
   "name": "python3"
  },
  "language_info": {
   "codemirror_mode": {
    "name": "ipython",
    "version": 3
   },
   "file_extension": ".py",
   "mimetype": "text/x-python",
   "name": "python",
   "nbconvert_exporter": "python",
   "pygments_lexer": "ipython3",
   "version": "3.10.8"
  },
  "orig_nbformat": 4,
  "vscode": {
   "interpreter": {
    "hash": "101b816fe1d0b90b733dc5a58a81038627d273f97be30c1d87794f54cdbf127f"
   }
  }
 },
 "nbformat": 4,
 "nbformat_minor": 2
}
