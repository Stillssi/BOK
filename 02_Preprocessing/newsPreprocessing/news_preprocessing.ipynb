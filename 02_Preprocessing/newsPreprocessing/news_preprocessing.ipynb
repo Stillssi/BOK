{
 "cells": [
  {
   "cell_type": "code",
   "execution_count": null,
   "metadata": {},
   "outputs": [],
   "source": [
    "# ngram 생성하기\n",
    "import os\n",
    "import re\n",
    "from ekonlpy.sentiment import MPCK\n",
    "import pandas as pd\n",
    "\n",
    "data = pd.read_csv('../../01_Crawling/financecrawler/new.csv')\n",
    "df = pd.DataFrame(columns=['date', 'content', 'scores', 'ngrams'])\n",
    "text_list = os.listdir(TXT_DIR)\n",
    "pdf_list = os.listdir(PDF_DIR)\n",
    "ngram_list = []\n",
    "scores = []\n",
    "content = []\n",
    "dates = []\n",
    "for i in range(len(text_list)):\n",
    "    # 텍스트 불러오기\n",
    "    text_file = open(TXT_DIR + f\"/{text_list[i]}\", 'r', encoding='utf-8-sig')\n",
    "    text = ''\n",
    "    for line in text_file:\n",
    "        new_line = line.strip()\n",
    "        if len(new_line) == 0:\n",
    "            continue\n",
    "        else:\n",
    "            text += new_line\n",
    "    # 정규 표현식\n",
    "    re_text = re.sub('[^ ㄱ-ㅣ가-힣]+', '', text).lstrip().rstrip()\n",
    "    content.append(re_text)\n",
    "    dates.append(data['date'].loc[i])\n",
    "    # MPCK 객체 생성\n",
    "    mpck = MPCK()\n",
    "    tokens = mpck.tokenize(re_text)\n",
    "    ngrams = mpck.ngramize(tokens)\n",
    "    score = mpck.classify(tokens+ngrams, intensity_cutoff=1.5)\n",
    "    scores.append(score)\n",
    "    ngram_list.append(ngrams)"
   ]
  }
 ],
 "metadata": {
  "kernelspec": {
   "display_name": "Python 3.10.8 ('project1')",
   "language": "python",
   "name": "python3"
  },
  "language_info": {
   "codemirror_mode": {
    "name": "ipython",
    "version": 3
   },
   "file_extension": ".py",
   "mimetype": "text/x-python",
   "name": "python",
   "nbconvert_exporter": "python",
   "pygments_lexer": "ipython3",
   "version": "3.10.8"
  },
  "orig_nbformat": 4,
  "vscode": {
   "interpreter": {
    "hash": "101b816fe1d0b90b733dc5a58a81038627d273f97be30c1d87794f54cdbf127f"
   }
  }
 },
 "nbformat": 4,
 "nbformat_minor": 2
}
