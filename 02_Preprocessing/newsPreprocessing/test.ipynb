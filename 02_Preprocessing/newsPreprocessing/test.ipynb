{
 "cells": [
  {
   "cell_type": "code",
   "execution_count": 1,
   "metadata": {},
   "outputs": [],
   "source": [
    "import re\n",
    "import numpy as np\n",
    "import pandas as pd\n",
    "import seaborn as sns\n",
    "import matplotlib.pyplot as plt\n",
    "%matplotlib inline\n",
    "from matplotlib import rc\n",
    "from ekonlpy.sentiment import MPCK\n",
    "import itertools"
   ]
  },
  {
   "cell_type": "code",
   "execution_count": 2,
   "metadata": {},
   "outputs": [],
   "source": [
    "def cleansing(text):\n",
    "    repl =''\n",
    "    pattern = '([ㄱ-ㅎㅏ-ㅣ]+)' # 자음, 모음 제거\n",
    "    text = re.sub(pattern= pattern, repl=repl, string=text)\n",
    "    pattern = '[^가-히\\s]' # 특수기호 제거\n",
    "    text = re.sub(pattern= pattern, repl=repl, string=text)\n",
    "    pattern = '<[^>]*>' # html 제거\n",
    "    text = re.sub(pattern = pattern, repl=repl,string=text)\n",
    "    pattern = '\\.([^\\.]*(?:기자|뉴스|특파원|교수|작가|대표|논설|고문|주필|부문장|팀장|장관|원장|연구원|이사장|위원|실장|차장|부장|에세이|화백|사설|소장|단장|과장|기획자|큐레이터|저작권|평론가|©|©|ⓒ|\\@|\\/|=|▶|무단|전재|재배포|금지|\\[|\\]|\\(\\))[^\\.]*)$'\n",
    "    text = re.sub(pattern = pattern, repl=repl,string=text)   \n",
    "\n",
    "    return text"
   ]
  },
  {
   "cell_type": "code",
   "execution_count": 3,
   "metadata": {},
   "outputs": [],
   "source": [
    "def load_data_preprocessing():\n",
    "    df=pd.read_csv('./naver_news_scrapy_total_prep.csv', usecols=['media','date','content'])\n",
    "\n",
    "    # 분석할 기간에 해당하는 데이터 추출\n",
    "    df=df[(df['date']>= 20110101) & (df['date'] <= 20211231)] \n",
    "\n",
    "    # date 컬럼 데이터 타입 datetime으로 변경\n",
    "    df['date'] = pd.to_datetime(df['date'].astype('str'))\n",
    "\n",
    "    # 언론사명이 다른 5개의 데이터 삭제, 인덱스 초기화\n",
    "    EPA = df[df['media'].str.contains('EPA')].index\n",
    "    df.drop(EPA,inplace=True)\n",
    "    df.reset_index(drop=True,inplace=True)\n",
    "\n",
    "    # 본문 데이터 정제\n",
    "    df['content'] = df['content'].map(lambda x: cleansing(x))\n",
    "\n",
    "    return df.to_csv('naver_news_prep.csv', index=False)\n",
    "\n",
    "load_data_preprocessing()"
   ]
  },
  {
   "cell_type": "code",
   "execution_count": 4,
   "metadata": {},
   "outputs": [],
   "source": [
    "def news_ngram_list(text):\n",
    "    ngram_list=[]\n",
    "\n",
    "    mpck = MPCK()\n",
    "    tokens = mpck.tokenize(text)\n",
    "    ngrams = mpck.ngramize(tokens)\n",
    "    ngram_list.append(ngrams)\n",
    "    ngram_list = list(itertools.chain(*ngram_list))\n",
    "    return ngram_list"
   ]
  },
  {
   "cell_type": "code",
   "execution_count": 5,
   "metadata": {},
   "outputs": [],
   "source": [
    "def news_ngram(): # ngram 추출 후 new_df에 저장\n",
    "    new_df=pd.DataFrame(columns=['date','ngrams'])\n",
    "    df=pd.read_csv('./naver_news_prep.csv',usecols=['date','content'])\n",
    "    new_df['date']=df['date'].map(lambda x: pd.to_datetime(x))\n",
    "    new_df['ngrams'] = df['content'].map(lambda x: news_ngram_list(x))\n",
    "\n",
    "    return new_df\n",
    "\n",
    "df=news_ngram()\n",
    "df.to_csv('news_ngram_data.csv')"
   ]
  },
  {
   "cell_type": "code",
   "execution_count": null,
   "metadata": {},
   "outputs": [],
   "source": []
  }
 ],
 "metadata": {
  "kernelspec": {
   "display_name": "Python 3.10.8 ('project1')",
   "language": "python",
   "name": "python3"
  },
  "language_info": {
   "codemirror_mode": {
    "name": "ipython",
    "version": 3
   },
   "file_extension": ".py",
   "mimetype": "text/x-python",
   "name": "python",
   "nbconvert_exporter": "python",
   "pygments_lexer": "ipython3",
   "version": "3.10.8"
  },
  "orig_nbformat": 4,
  "vscode": {
   "interpreter": {
    "hash": "101b816fe1d0b90b733dc5a58a81038627d273f97be30c1d87794f54cdbf127f"
   }
  }
 },
 "nbformat": 4,
 "nbformat_minor": 2
}
