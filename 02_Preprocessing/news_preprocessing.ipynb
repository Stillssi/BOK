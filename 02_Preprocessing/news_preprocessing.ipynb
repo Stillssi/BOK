{
 "cells": [
  {
   "cell_type": "code",
   "execution_count": 1,
   "metadata": {},
   "outputs": [
    {
     "data": {
      "text/plain": [
       "[('금통위', 'NNG'),\n",
       " ('는', 'JX'),\n",
       " ('따라서', 'MAJ'),\n",
       " ('물가', 'NNG'),\n",
       " ('안정', 'NNG'),\n",
       " ('과', 'JC'),\n",
       " ('병행', 'NNG'),\n",
       " (',', 'SC'),\n",
       " ('경기', 'NNG'),\n",
       " ('상황', 'NNG'),\n",
       " ('에', 'JKB'),\n",
       " ('유의', 'NNG'),\n",
       " ('하', 'XSV'),\n",
       " ('는', 'ETM'),\n",
       " ('금리', 'NNG'),\n",
       " ('정책', 'NNG'),\n",
       " ('을', 'JKO'),\n",
       " ('펼쳐', 'VV'),\n",
       " ('나가', 'VX'),\n",
       " ('기', 'ETN'),\n",
       " ('로', 'JKB'),\n",
       " ('했', 'VV'),\n",
       " ('다고', 'EC'),\n",
       " ('밝혔', 'VV'),\n",
       " ('다', 'EF'),\n",
       " ('.', 'SF')]"
      ]
     },
     "execution_count": 1,
     "metadata": {},
     "output_type": "execute_result"
    }
   ],
   "source": [
    "from ekonlpy.tag import Mecab\n",
    "\n",
    "mecab = Mecab()\n",
    "mecab.pos('금통위는 따라서 물가안정과 병행, 경기상황에 유의하는 금리정책을 펼쳐나가기로 했다고 밝혔다.')"
   ]
  },
  {
   "cell_type": "code",
   "execution_count": 2,
   "metadata": {},
   "outputs": [],
   "source": [
    "from ekonlpy.tag import Mecab\n",
    "mecab = Mecab()\n",
    "mecab.add_dictionary('금통위', 'NNG')"
   ]
  },
  {
   "cell_type": "code",
   "execution_count": 5,
   "metadata": {},
   "outputs": [],
   "source": [
    "text='금통위는 따라서 물가안정과 병행, 경기상황에 유의하는 금리정책을 펼쳐나가기로 했다고 밝혔다.'"
   ]
  },
  {
   "cell_type": "code",
   "execution_count": 6,
   "metadata": {},
   "outputs": [
    {
     "ename": "AttributeError",
     "evalue": "partially initialized module 'nltk' has no attribute 'internals' (most likely due to a circular import)",
     "output_type": "error",
     "traceback": [
      "\u001b[0;31m---------------------------------------------------------------------------\u001b[0m",
      "\u001b[0;31mAttributeError\u001b[0m                            Traceback (most recent call last)",
      "Cell \u001b[0;32mIn [6], line 1\u001b[0m\n\u001b[0;32m----> 1\u001b[0m \u001b[39mfrom\u001b[39;00m \u001b[39mekonlpy\u001b[39;00m\u001b[39m.\u001b[39;00m\u001b[39msentiment\u001b[39;00m \u001b[39mimport\u001b[39;00m MPKO\n\u001b[1;32m      2\u001b[0m mpko \u001b[39m=\u001b[39m MPKO(kind\u001b[39m=\u001b[39m\u001b[39m1\u001b[39m)\n\u001b[1;32m      3\u001b[0m tokens \u001b[39m=\u001b[39m mpko\u001b[39m.\u001b[39mtokenize(text)\n",
      "File \u001b[0;32m~/opt/anaconda3/envs/project1/lib/python3.10/site-packages/ekonlpy/sentiment/__init__.py:1\u001b[0m\n\u001b[0;32m----> 1\u001b[0m \u001b[39mfrom\u001b[39;00m \u001b[39mekonlpy\u001b[39;00m\u001b[39m.\u001b[39;00m\u001b[39msentiment\u001b[39;00m\u001b[39m.\u001b[39;00m\u001b[39mhiv4\u001b[39;00m \u001b[39mimport\u001b[39;00m HIV4\n\u001b[1;32m      2\u001b[0m \u001b[39mfrom\u001b[39;00m \u001b[39mekonlpy\u001b[39;00m\u001b[39m.\u001b[39;00m\u001b[39msentiment\u001b[39;00m\u001b[39m.\u001b[39;00m\u001b[39mlm\u001b[39;00m \u001b[39mimport\u001b[39;00m LM\n\u001b[1;32m      3\u001b[0m \u001b[39mfrom\u001b[39;00m \u001b[39mekonlpy\u001b[39;00m\u001b[39m.\u001b[39;00m\u001b[39msentiment\u001b[39;00m\u001b[39m.\u001b[39;00m\u001b[39mmpko\u001b[39;00m \u001b[39mimport\u001b[39;00m MPKO\n",
      "File \u001b[0;32m~/opt/anaconda3/envs/project1/lib/python3.10/site-packages/ekonlpy/sentiment/hiv4.py:3\u001b[0m\n\u001b[1;32m      1\u001b[0m \u001b[39mimport\u001b[39;00m \u001b[39mpandas\u001b[39;00m \u001b[39mas\u001b[39;00m \u001b[39mpd\u001b[39;00m\n\u001b[1;32m      2\u001b[0m \u001b[39mfrom\u001b[39;00m \u001b[39mekonlpy\u001b[39;00m\u001b[39m.\u001b[39;00m\u001b[39msentiment\u001b[39;00m\u001b[39m.\u001b[39;00m\u001b[39mbase\u001b[39;00m \u001b[39mimport\u001b[39;00m LEXICON_PATH, BaseDict\n\u001b[0;32m----> 3\u001b[0m \u001b[39mfrom\u001b[39;00m \u001b[39mekonlpy\u001b[39;00m\u001b[39m.\u001b[39;00m\u001b[39msentiment\u001b[39;00m\u001b[39m.\u001b[39;00m\u001b[39mutils\u001b[39;00m \u001b[39mimport\u001b[39;00m Tokenizer\n\u001b[1;32m      6\u001b[0m \u001b[39mclass\u001b[39;00m \u001b[39mHIV4\u001b[39;00m(BaseDict):\n\u001b[1;32m      7\u001b[0m     \u001b[39m'''\u001b[39;00m\n\u001b[1;32m      8\u001b[0m \u001b[39m    Dictionary class for Harvard IV-4. \u001b[39;00m\n\u001b[1;32m      9\u001b[0m \u001b[39m    See also http://www.wjh.harvard.edu/~inquirer/\u001b[39;00m\n\u001b[1;32m     10\u001b[0m \u001b[39m    \u001b[39;00m\n\u001b[1;32m     11\u001b[0m \u001b[39m    The terms for the dictionary are stemmed by the default tokenizer.\u001b[39;00m\n\u001b[1;32m     12\u001b[0m \u001b[39m    '''\u001b[39;00m\n",
      "File \u001b[0;32m~/opt/anaconda3/envs/project1/lib/python3.10/site-packages/ekonlpy/sentiment/utils.py:6\u001b[0m\n\u001b[1;32m      4\u001b[0m \u001b[39mimport\u001b[39;00m \u001b[39mabc\u001b[39;00m\n\u001b[1;32m      5\u001b[0m \u001b[39mimport\u001b[39;00m \u001b[39mre\u001b[39;00m\n\u001b[0;32m----> 6\u001b[0m \u001b[39mimport\u001b[39;00m \u001b[39mnltk\u001b[39;00m\n\u001b[1;32m      7\u001b[0m \u001b[39mimport\u001b[39;00m \u001b[39mos\u001b[39;00m\n\u001b[1;32m      8\u001b[0m \u001b[39mfrom\u001b[39;00m \u001b[39mekonlpy\u001b[39;00m\u001b[39m.\u001b[39;00m\u001b[39mtag\u001b[39;00m \u001b[39mimport\u001b[39;00m Mecab\n",
      "File \u001b[0;32m~/opt/anaconda3/envs/project1/lib/python3.10/site-packages/nltk/__init__.py:179\u001b[0m\n\u001b[1;32m    176\u001b[0m \u001b[39melse\u001b[39;00m:\n\u001b[1;32m    177\u001b[0m     \u001b[39mfrom\u001b[39;00m \u001b[39mnltk\u001b[39;00m \u001b[39mimport\u001b[39;00m cluster\n\u001b[0;32m--> 179\u001b[0m \u001b[39mfrom\u001b[39;00m \u001b[39mnltk\u001b[39;00m\u001b[39m.\u001b[39;00m\u001b[39mdownloader\u001b[39;00m \u001b[39mimport\u001b[39;00m download, download_shell\n\u001b[1;32m    181\u001b[0m \u001b[39mtry\u001b[39;00m:\n\u001b[1;32m    182\u001b[0m     \u001b[39mimport\u001b[39;00m \u001b[39mtkinter\u001b[39;00m\n",
      "File \u001b[0;32m~/opt/anaconda3/envs/project1/lib/python3.10/site-packages/nltk/downloader.py:2475\u001b[0m\n\u001b[1;32m   2465\u001b[0m             \u001b[39mpass\u001b[39;00m\n\u001b[1;32m   2468\u001b[0m \u001b[39m######################################################################\u001b[39;00m\n\u001b[1;32m   2469\u001b[0m \u001b[39m# Main:\u001b[39;00m\n\u001b[1;32m   2470\u001b[0m \u001b[39m######################################################################\u001b[39;00m\n\u001b[0;32m   (...)\u001b[0m\n\u001b[1;32m   2473\u001b[0m \n\u001b[1;32m   2474\u001b[0m \u001b[39m# Aliases\u001b[39;00m\n\u001b[0;32m-> 2475\u001b[0m _downloader \u001b[39m=\u001b[39m Downloader()\n\u001b[1;32m   2476\u001b[0m download \u001b[39m=\u001b[39m _downloader\u001b[39m.\u001b[39mdownload\n\u001b[1;32m   2479\u001b[0m \u001b[39mdef\u001b[39;00m \u001b[39mdownload_shell\u001b[39m():\n",
      "File \u001b[0;32m~/opt/anaconda3/envs/project1/lib/python3.10/site-packages/nltk/downloader.py:515\u001b[0m, in \u001b[0;36mDownloader.__init__\u001b[0;34m(self, server_index_url, download_dir)\u001b[0m\n\u001b[1;32m    513\u001b[0m \u001b[39m# decide where we're going to save things to.\u001b[39;00m\n\u001b[1;32m    514\u001b[0m \u001b[39mif\u001b[39;00m \u001b[39mself\u001b[39m\u001b[39m.\u001b[39m_download_dir \u001b[39mis\u001b[39;00m \u001b[39mNone\u001b[39;00m:\n\u001b[0;32m--> 515\u001b[0m     \u001b[39mself\u001b[39m\u001b[39m.\u001b[39m_download_dir \u001b[39m=\u001b[39m \u001b[39mself\u001b[39;49m\u001b[39m.\u001b[39;49mdefault_download_dir()\n",
      "File \u001b[0;32m~/opt/anaconda3/envs/project1/lib/python3.10/site-packages/nltk/downloader.py:1072\u001b[0m, in \u001b[0;36mDownloader.default_download_dir\u001b[0;34m(self)\u001b[0m\n\u001b[1;32m   1069\u001b[0m \u001b[39m# Check if we have sufficient permissions to install in a\u001b[39;00m\n\u001b[1;32m   1070\u001b[0m \u001b[39m# variety of system-wide locations.\u001b[39;00m\n\u001b[1;32m   1071\u001b[0m \u001b[39mfor\u001b[39;00m nltkdir \u001b[39min\u001b[39;00m nltk\u001b[39m.\u001b[39mdata\u001b[39m.\u001b[39mpath:\n\u001b[0;32m-> 1072\u001b[0m     \u001b[39mif\u001b[39;00m os\u001b[39m.\u001b[39mpath\u001b[39m.\u001b[39mexists(nltkdir) \u001b[39mand\u001b[39;00m nltk\u001b[39m.\u001b[39;49minternals\u001b[39m.\u001b[39mis_writable(nltkdir):\n\u001b[1;32m   1073\u001b[0m         \u001b[39mreturn\u001b[39;00m nltkdir\n\u001b[1;32m   1075\u001b[0m \u001b[39m# On Windows, use %APPDATA%\u001b[39;00m\n",
      "\u001b[0;31mAttributeError\u001b[0m: partially initialized module 'nltk' has no attribute 'internals' (most likely due to a circular import)"
     ]
    }
   ],
   "source": [
    "from ekonlpy.sentiment import MPKO\n",
    "mpko = MPKO(kind=1)\n",
    "tokens = mpko.tokenize(text)\n",
    "score = mpko.get_score(tokens)"
   ]
  },
  {
   "cell_type": "code",
   "execution_count": null,
   "metadata": {},
   "outputs": [],
   "source": [
    "from ekonlpy.sentiment import MPCK\n",
    "mpck = MPCK()\n",
    "tokens = mpck.tokenize(text)\n",
    "ngrams = mpck.ngramize(tokens)\n",
    "score = mpck.classify(tokens + ngrams, intensity_cutoff=1.5)"
   ]
  },
  {
   "cell_type": "code",
   "execution_count": null,
   "metadata": {},
   "outputs": [],
   "source": [
    "from ekonlpy.sentiment import KSA\n",
    "ksa = KSA()\n",
    "tokens = ksa.tokenize(text)\n",
    "score = ksa.get_score(tokens)"
   ]
  },
  {
   "cell_type": "code",
   "execution_count": null,
   "metadata": {},
   "outputs": [],
   "source": [
    "from ekonlpy.sentiment import HIV4\n",
    "hiv = HIV4()\n",
    "tokens = hiv.tokenize(text)\n",
    "score = hiv.get_score(tokens)"
   ]
  },
  {
   "cell_type": "code",
   "execution_count": null,
   "metadata": {},
   "outputs": [],
   "source": [
    "from ekonlpy.sentiment import LM\n",
    "lm = LM()\n",
    "tokens = lm.tokenize(text)\n",
    "score = lm.get_score(tokens)"
   ]
  },
  {
   "cell_type": "code",
   "execution_count": null,
   "metadata": {},
   "outputs": [],
   "source": [
    "from ekonlpy.sentiment import EUKO\n",
    "euko = EUKO(kind=1)\n",
    "tokens = euko.tokenize(text)\n",
    "score = euko.get_score(tokens)"
   ]
  },
  {
   "cell_type": "code",
   "execution_count": null,
   "metadata": {},
   "outputs": [],
   "source": [
    "from ekonlpy.topic import MPTK\n",
    "mptk = MPTK()\n",
    "tokens = mptk.nouns(text)\n",
    "bow = mptk.doc2bow(tokens)\n",
    "dtm = mptk.get_document_topic(bow)"
   ]
  }
 ],
 "metadata": {
  "kernelspec": {
   "display_name": "Python 3.10.8 ('project1')",
   "language": "python",
   "name": "python3"
  },
  "language_info": {
   "codemirror_mode": {
    "name": "ipython",
    "version": 3
   },
   "file_extension": ".py",
   "mimetype": "text/x-python",
   "name": "python",
   "nbconvert_exporter": "python",
   "pygments_lexer": "ipython3",
   "version": "3.10.8"
  },
  "orig_nbformat": 4,
  "vscode": {
   "interpreter": {
    "hash": "101b816fe1d0b90b733dc5a58a81038627d273f97be30c1d87794f54cdbf127f"
   }
  }
 },
 "nbformat": 4,
 "nbformat_minor": 2
}
